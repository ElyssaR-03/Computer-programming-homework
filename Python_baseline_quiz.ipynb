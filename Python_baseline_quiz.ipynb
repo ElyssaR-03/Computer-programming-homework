{
  "nbformat": 4,
  "nbformat_minor": 0,
  "metadata": {
    "colab": {
      "provenance": [],
      "include_colab_link": true
    },
    "kernelspec": {
      "name": "python3",
      "display_name": "Python 3"
    },
    "language_info": {
      "name": "python"
    }
  },
  "cells": [
    {
      "cell_type": "markdown",
      "metadata": {
        "id": "view-in-github",
        "colab_type": "text"
      },
      "source": [
        "<a href=\"https://colab.research.google.com/github/ElyssaR-03/Computer-programming-homework/blob/main/Python_baseline_quiz.ipynb\" target=\"_parent\"><img src=\"https://colab.research.google.com/assets/colab-badge.svg\" alt=\"Open In Colab\"/></a>"
      ]
    },
    {
      "cell_type": "markdown",
      "source": [
        "Question 1. What is the output of the following code? Walk through your reasoning:"
      ],
      "metadata": {
        "id": "4YtPEaxuqw4e"
      }
    },
    {
      "cell_type": "code",
      "execution_count": null,
      "metadata": {
        "id": "lMIchEv7lb13",
        "colab": {
          "base_uri": "https://localhost:8080/"
        },
        "outputId": "a39fe3f3-18ac-417b-b7b7-d9b335fe9bc4"
      },
      "outputs": [
        {
          "output_type": "stream",
          "name": "stdout",
          "text": [
            "48\n"
          ]
        }
      ],
      "source": [
        " x = 5\n",
        " y = 10\n",
        " z = x * y - y // x\n",
        " print(z)\n",
        "#First it calculates x * y which is 50, then it calculates the division of y//x to get 2.\n",
        "#After division it subtracts 50-2 to get 48 (comments by Elyssa, had to do research to make sure I understood the // operation)"
      ]
    },
    {
      "cell_type": "markdown",
      "source": [
        "Question 2.  Explain the difference between `append()` and `extend()` methods for Python lists. Provide an\n",
        "example to demonstrate their usage.\n",
        "* Append in python lists is used to add an element to the end of the list and is usually a single element and increases the length by 1. Extend adds multiple elements to the end of the list and increases the length by the amount of elements added.(Not too sure on this question but we gave it our best attempt and used google for a little assistance)"
      ],
      "metadata": {
        "id": "II7bw-W2qfFO"
      }
    },
    {
      "cell_type": "code",
      "source": [
        "first_list = [1, 2, 3]\n",
        "#list.append(element)\n",
        "first_list.append(4)\n",
        "print(first_list)\n",
        "#code written by Mpingo"
      ],
      "metadata": {
        "id": "GzAVrkITqMu7",
        "colab": {
          "base_uri": "https://localhost:8080/"
        },
        "outputId": "660b94c2-36e1-4949-a9f8-b0debb6a04fd"
      },
      "execution_count": null,
      "outputs": [
        {
          "output_type": "stream",
          "name": "stdout",
          "text": [
            "[1, 2, 3, 4]\n"
          ]
        }
      ]
    },
    {
      "cell_type": "code",
      "source": [
        "second_list = [1, 2, 3]\n",
        "#list.extend(element)\n",
        "second_list.extend((4, 5))\n",
        "print(second_list)\n",
        "#code written by Mpingo"
      ],
      "metadata": {
        "colab": {
          "base_uri": "https://localhost:8080/"
        },
        "id": "D0ClG_9otI3k",
        "outputId": "7e56281b-8e09-4889-d391-e3322fda49ce"
      },
      "execution_count": 6,
      "outputs": [
        {
          "output_type": "stream",
          "name": "stdout",
          "text": [
            "[1, 2, 3, 4, 5]\n"
          ]
        }
      ]
    },
    {
      "cell_type": "markdown",
      "source": [
        "Question 3. Write a Python function that checks if a given number is prime. Explain the decisions behind your\n",
        "logic.\n"
      ],
      "metadata": {
        "id": "E_3dzyY0dHNe"
      }
    },
    {
      "cell_type": "code",
      "source": [],
      "metadata": {
        "id": "alaoMNEPdg_n"
      },
      "execution_count": null,
      "outputs": []
    },
    {
      "cell_type": "markdown",
      "source": [
        "Question 4. What will the following code output? Explain why:"
      ],
      "metadata": {
        "id": "cvq92ZRCdJL1"
      }
    },
    {
      "cell_type": "code",
      "source": [
        "def foo(x, lst=[]):\n",
        "  lst.append(x)\n",
        "  return lst\n",
        "print(foo(1))\n",
        "print(foo(2))\n",
        "\n",
        "#This code write a function that takes parameters x and an empty list\n",
        "#The function makes it so that the value of x is added to the list and returns it after execution\n",
        "#print(foo(1)) adds 1 to the list since that is the value for x and since it uses append print(foo(2)) adds 2 to the end of the same list\n",
        "#comments written by Elyssa, I still had to research on how some of these aspects work but for the most part I understood after doing 1-3."
      ],
      "metadata": {
        "colab": {
          "base_uri": "https://localhost:8080/"
        },
        "id": "KtLuCL1vdiTh",
        "outputId": "838ec1c6-aa94-4076-9f68-de7ebb216660"
      },
      "execution_count": 4,
      "outputs": [
        {
          "output_type": "stream",
          "name": "stdout",
          "text": [
            "[1]\n",
            "[1, 2]\n"
          ]
        }
      ]
    },
    {
      "cell_type": "markdown",
      "source": [
        "Question 5. Write a function that takes a list of integers and returns the second largest number. Walk through\n",
        "your logic."
      ],
      "metadata": {
        "id": "48PmYa_EdKfW"
      }
    },
    {
      "cell_type": "code",
      "source": [
        "#code and comments written by Elyssa\n",
        "def second_largest(numbers):\n",
        "    numbers.sort()\n",
        "    return numbers[-2]\n",
        "print(second_largest([1, 2, 3, 4, 5, 6, 7, 8, 9, 9, 11, 12, 10]))\n",
        "#This code takes a list of integers and sorts through the list in order to determine the largest numbers\n",
        "#return number[-2] tells the function to display the second largest number and since it includes the sort feature.\n",
        "#it always returns the second largest even with duplicates"
      ],
      "metadata": {
        "colab": {
          "base_uri": "https://localhost:8080/"
        },
        "id": "84-5LJy4dxN_",
        "outputId": "3f33fe8e-fb1f-4063-e8be-367080c13b03"
      },
      "execution_count": 2,
      "outputs": [
        {
          "output_type": "stream",
          "name": "stdout",
          "text": [
            "11\n"
          ]
        }
      ]
    },
    {
      "cell_type": "markdown",
      "source": [
        "Question 6.  How does Python handle mutable and immutable data types? Provide examples."
      ],
      "metadata": {
        "id": "ruW1LV7adU7k"
      }
    },
    {
      "cell_type": "code",
      "source": [
        "#code and comments written by Elyssa\n",
        "#mutable data types can be modified, this adds values to the end of the list changing it from its original format\n",
        "my_list = [1, 2, 3]\n",
        "my_list.append(4)\n",
        "print(my_list)\n",
        "\n",
        "#immutable data types can't be changed directly to prevent unwanted changes to the original input\n",
        "my_string = \"hello\"\n",
        "new_string = my_string + \" world\"\n",
        "print(my_string)\n",
        "print(new_string)"
      ],
      "metadata": {
        "colab": {
          "base_uri": "https://localhost:8080/"
        },
        "id": "Vu3honC0dx1V",
        "outputId": "d014adc4-6648-4c6f-bc24-8501bf2199db"
      },
      "execution_count": 3,
      "outputs": [
        {
          "output_type": "stream",
          "name": "stdout",
          "text": [
            "[1, 2, 3, 4]\n",
            "hello\n",
            "hello world\n"
          ]
        }
      ]
    },
    {
      "cell_type": "markdown",
      "source": [
        "Question 7. Critical Thinking: Write a Python script that takes a string as input, validates that it only contains\n",
        "alphanumeric characters and spaces, and converts it to uppercase. Walk through your logic."
      ],
      "metadata": {
        "id": "08j2uYvSdWCr"
      }
    },
    {
      "cell_type": "code",
      "source": [],
      "metadata": {
        "id": "VXpWgQmJDHfj"
      },
      "execution_count": null,
      "outputs": []
    }
  ]
}